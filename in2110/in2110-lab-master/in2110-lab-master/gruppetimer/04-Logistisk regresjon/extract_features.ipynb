{
 "cells": [
  {
   "cell_type": "code",
   "execution_count": 1,
   "metadata": {},
   "outputs": [],
   "source": [
    "from scipy.sparse import lil_matrix"
   ]
  },
  {
   "cell_type": "code",
   "execution_count": 7,
   "metadata": {},
   "outputs": [],
   "source": [
    "ÆØÅ = [\"æ\",\"ø\",\"å\"]\n",
    "def extract_feats(words):\n",
    "\n",
    "    feats = lil_matrix((len(words), len(ÆØÅ)))\n",
    "    \n",
    "    æøå_dict = {}\n",
    "    for index, letter in enumerate(ÆØÅ):\n",
    "        æøå_dict[letter] = index\n",
    "    \n",
    "    print(æøå_dict)\n",
    "\n",
    "    for index, word in enumerate(words):\n",
    "        for character in word:\n",
    "            if character in æøå_dict:\n",
    "                feats[index, æøå_dict[character]] = 1 \n",
    "\n",
    "    return feats"
   ]
  },
  {
   "cell_type": "code",
   "execution_count": 9,
   "metadata": {},
   "outputs": [
    {
     "name": "stdout",
     "output_type": "stream",
     "text": [
      "{'æ': 0, 'ø': 1, 'å': 2}\n"
     ]
    }
   ],
   "source": [
    "feats = extract_feats([\"Pære\",\"Blåbærsyltetøy\",\"Norsk\",\"Løsøre\"])"
   ]
  },
  {
   "cell_type": "code",
   "execution_count": 10,
   "metadata": {},
   "outputs": [
    {
     "name": "stdout",
     "output_type": "stream",
     "text": [
      "  (0, 0)\t1.0 Type: <class 'scipy.sparse.lil.lil_matrix'>\n",
      "  (0, 0)\t1.0\n",
      "  (0, 1)\t1.0\n",
      "  (0, 2)\t1.0 Type: <class 'scipy.sparse.lil.lil_matrix'>\n",
      " Type: <class 'scipy.sparse.lil.lil_matrix'>\n",
      "  (0, 1)\t1.0 Type: <class 'scipy.sparse.lil.lil_matrix'>\n"
     ]
    }
   ],
   "source": [
    "for x in feats:\n",
    "    print(x,\"Type:\", type(x))"
   ]
  },
  {
   "cell_type": "code",
   "execution_count": 4,
   "metadata": {},
   "outputs": [
    {
     "data": {
      "text/plain": [
       "array([[1., 0., 0.],\n",
       "       [1., 1., 1.],\n",
       "       [0., 0., 0.],\n",
       "       [0., 1., 0.]])"
      ]
     },
     "execution_count": 4,
     "metadata": {},
     "output_type": "execute_result"
    }
   ],
   "source": [
    "feats.toarray()"
   ]
  },
  {
   "cell_type": "code",
   "execution_count": 5,
   "metadata": {},
   "outputs": [
    {
     "name": "stdout",
     "output_type": "stream",
     "text": [
      "(0, 'a')\n",
      "(1, 'b')\n",
      "(2, 'c')\n"
     ]
    }
   ],
   "source": [
    "for nummer in enumerate([\"a\",\"b\",\"c\"]):\n",
    "    print(nummer)"
   ]
  },
  {
   "cell_type": "code",
   "execution_count": 6,
   "metadata": {},
   "outputs": [
    {
     "name": "stdout",
     "output_type": "stream",
     "text": [
      "0 a\n",
      "1 b\n",
      "2 c\n"
     ]
    }
   ],
   "source": [
    "for indeks, nummer in enumerate([\"a\",\"b\",\"c\"]):\n",
    "    print(indeks, nummer)"
   ]
  },
  {
   "cell_type": "code",
   "execution_count": null,
   "metadata": {},
   "outputs": [],
   "source": []
  }
 ],
 "metadata": {
  "kernelspec": {
   "display_name": "Python 3",
   "language": "python",
   "name": "python3"
  },
  "language_info": {
   "codemirror_mode": {
    "name": "ipython",
    "version": 3
   },
   "file_extension": ".py",
   "mimetype": "text/x-python",
   "name": "python",
   "nbconvert_exporter": "python",
   "pygments_lexer": "ipython3",
   "version": "3.6.8"
  }
 },
 "nbformat": 4,
 "nbformat_minor": 2
}
